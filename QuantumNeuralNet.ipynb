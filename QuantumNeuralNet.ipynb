{
 "cells": [
  {
   "cell_type": "markdown",
   "id": "6dc7fcb1",
   "metadata": {},
   "source": [
    "# Preamble"
   ]
  },
  {
   "cell_type": "code",
   "execution_count": 1,
   "id": "7aa252b0",
   "metadata": {
    "scrolled": true
   },
   "outputs": [
    {
     "data": {
      "application/x-qsharp-data": "\"\\\"Bitstring\\\"\"",
      "text/plain": [
       "\"Bitstring\""
      ]
     },
     "execution_count": 1,
     "metadata": {},
     "output_type": "execute_result"
    }
   ],
   "source": [
    "%config dump.basisStateLabelingConvention=\"Bitstring\""
   ]
  },
  {
   "cell_type": "code",
   "execution_count": 2,
   "id": "abbf413f",
   "metadata": {},
   "outputs": [
    {
     "data": {
      "application/x-qsharp-data": "[]",
      "text/html": [
       "<ul></ul>"
      ],
      "text/plain": []
     },
     "execution_count": 2,
     "metadata": {},
     "output_type": "execute_result"
    }
   ],
   "source": [
    "open Microsoft.Quantum.Arithmetic;\n",
    "open Microsoft.Quantum.Diagnostics;\n",
    "open Microsoft.Quantum.Preparation;\n",
    "open Microsoft.Quantum.Intrinsic;\n",
    "open Microsoft.Quantum.Math;\n",
    "open Microsoft.Quantum.Measurement;\n",
    "open Microsoft.Quantum.Convert;\n",
    "open Microsoft.Quantum.Arrays;"
   ]
  },
  {
   "cell_type": "markdown",
   "id": "d5b4d33c",
   "metadata": {},
   "source": [
    "## Amplitude Encoding\n",
    "\n",
    "Given the repeated and padded input, prepare the qubit register state with amplitude encoding.\n",
    "e.g. in a 2-qubit system, and a feature vector of $[a,b,c,d]$, $a$ maps to $\\left|00\\right\\rangle$,\n",
    "$b$ to $\\left|01\\right\\rangle$, $c$ to $\\left|10\\right\\rangle$, and $d$ to $\\left|11\\right\\rangle$."
   ]
  },
  {
   "cell_type": "code",
   "execution_count": 3,
   "id": "97d19472",
   "metadata": {},
   "outputs": [
    {
     "data": {
      "application/x-qsharp-data": "[\"DemoAmplitudeEncoding\"]",
      "text/html": [
       "<ul><li>DemoAmplitudeEncoding</li></ul>"
      ],
      "text/plain": [
       "DemoAmplitudeEncoding"
      ]
     },
     "execution_count": 3,
     "metadata": {},
     "output_type": "execute_result"
    }
   ],
   "source": [
    "operation DemoAmplitudeEncoding () : Unit {\n",
    "    let amplitudes = [1.0, 0.1, 2.0, 3.0];\n",
    "    use qs = Qubit[2];\n",
    "    let qRegister = LittleEndian(qs);\n",
    "    PrepareArbitraryStateD(amplitudes, qRegister);\n",
    "    \n",
    "    DumpMachine();\n",
    "    \n",
    "    ResetAll(qs);\n",
    "}"
   ]
  },
  {
   "cell_type": "code",
   "execution_count": 4,
   "id": "702f2d25",
   "metadata": {},
   "outputs": [
    {
     "data": {
      "application/x-qsharp-data": "{\"diagnostic_kind\":\"state-vector\",\"qubit_ids\":[0,1],\"n_qubits\":2,\"amplitudes\":{\"0\":{\"Real\":0.2671658425726324,\"Imaginary\":0.0,\"Magnitude\":0.2671658425726324,\"Phase\":0.0},\"1\":{\"Real\":0.026716584257263237,\"Imaginary\":0.0,\"Magnitude\":0.026716584257263237,\"Phase\":0.0},\"2\":{\"Real\":0.5343316851452651,\"Imaginary\":0.0,\"Magnitude\":0.5343316851452651,\"Phase\":0.0},\"3\":{\"Real\":0.8014975277178974,\"Imaginary\":0.0,\"Magnitude\":0.8014975277178974,\"Phase\":0.0}}}",
      "text/html": [
       "\r\n",
       "                    <table style=\"table-layout: fixed; width: 100%\">\r\n",
       "                        <thead>\r\n",
       "                            \r\n",
       "                        <tr>\r\n",
       "                            <th>Qubit IDs</th>\r\n",
       "                            <td span=\"3\">0, 1</td>\r\n",
       "                        </tr>\r\n",
       "                    \r\n",
       "                            <tr>\r\n",
       "                                <th style=\"width: 20ch)\">Basis state (bitstring)</th>\r\n",
       "                                <th style=\"width: 20ch\">Amplitude</th><th style=\"width: calc(100% - 26ch - 20ch)\">Meas. Pr.</th><th style=\"width: 6ch\">Phase</th>\r\n",
       "                            </tr>\r\n",
       "                        </thead>\r\n",
       "                        <tbody>\r\n",
       "                        \r\n",
       "                            <tr>\r\n",
       "                                <td>$\\left|00\\right\\rangle$</td>\r\n",
       "                                <td>$0.2672 + 0.0000 i$</td>\r\n",
       "                                \r\n",
       "                                <td>\r\n",
       "                                    <progress\r\n",
       "                                        max=\"100\"\r\n",
       "                                        value=\"7.137758743754459\"\r\n",
       "                                        style=\"width: 100%;\"\r\n",
       "                                    > \r\n",
       "                                    <td>\r\n",
       "                                    <p id=\"round-1f458515-5567-4c59-8be2-800c80c2d531\"> \r\n",
       "                                    <script>\r\n",
       "                                    var num = 7.137758743754459;\r\n",
       "                                    num = num.toFixed(4);\r\n",
       "                                    var num_string = num + \"%\";\r\n",
       "                                     document.getElementById(\"round-1f458515-5567-4c59-8be2-800c80c2d531\").innerHTML = num_string;\r\n",
       "                                    </script> </p>\r\n",
       "                                    </td>\r\n",
       "                                </td>\r\n",
       "                            \r\n",
       "                                \r\n",
       "                                <td style=\"transform: rotate(0deg);\r\n",
       "                   text-align: center;\">\r\n",
       "                                 ↑\r\n",
       "                                </td>\r\n",
       "                            \r\n",
       "                            </tr>\r\n",
       "                        \n",
       "\r\n",
       "                            <tr>\r\n",
       "                                <td>$\\left|01\\right\\rangle$</td>\r\n",
       "                                <td>$0.5343 + 0.0000 i$</td>\r\n",
       "                                \r\n",
       "                                <td>\r\n",
       "                                    <progress\r\n",
       "                                        max=\"100\"\r\n",
       "                                        value=\"28.55103497501787\"\r\n",
       "                                        style=\"width: 100%;\"\r\n",
       "                                    > \r\n",
       "                                    <td>\r\n",
       "                                    <p id=\"round-00ed9e27-a0d5-4aa3-a143-8b528bc2c2e1\"> \r\n",
       "                                    <script>\r\n",
       "                                    var num = 28.55103497501787;\r\n",
       "                                    num = num.toFixed(4);\r\n",
       "                                    var num_string = num + \"%\";\r\n",
       "                                     document.getElementById(\"round-00ed9e27-a0d5-4aa3-a143-8b528bc2c2e1\").innerHTML = num_string;\r\n",
       "                                    </script> </p>\r\n",
       "                                    </td>\r\n",
       "                                </td>\r\n",
       "                            \r\n",
       "                                \r\n",
       "                                <td style=\"transform: rotate(0deg);\r\n",
       "                   text-align: center;\">\r\n",
       "                                 ↑\r\n",
       "                                </td>\r\n",
       "                            \r\n",
       "                            </tr>\r\n",
       "                        \n",
       "\r\n",
       "                            <tr>\r\n",
       "                                <td>$\\left|10\\right\\rangle$</td>\r\n",
       "                                <td>$0.0267 + 0.0000 i$</td>\r\n",
       "                                \r\n",
       "                                <td>\r\n",
       "                                    <progress\r\n",
       "                                        max=\"100\"\r\n",
       "                                        value=\"0.07137758743754458\"\r\n",
       "                                        style=\"width: 100%;\"\r\n",
       "                                    > \r\n",
       "                                    <td>\r\n",
       "                                    <p id=\"round-98d008ed-1c31-4fab-91d5-69530e46b7a3\"> \r\n",
       "                                    <script>\r\n",
       "                                    var num = 0.07137758743754458;\r\n",
       "                                    num = num.toFixed(4);\r\n",
       "                                    var num_string = num + \"%\";\r\n",
       "                                     document.getElementById(\"round-98d008ed-1c31-4fab-91d5-69530e46b7a3\").innerHTML = num_string;\r\n",
       "                                    </script> </p>\r\n",
       "                                    </td>\r\n",
       "                                </td>\r\n",
       "                            \r\n",
       "                                \r\n",
       "                                <td style=\"transform: rotate(0deg);\r\n",
       "                   text-align: center;\">\r\n",
       "                                 ↑\r\n",
       "                                </td>\r\n",
       "                            \r\n",
       "                            </tr>\r\n",
       "                        \n",
       "\r\n",
       "                            <tr>\r\n",
       "                                <td>$\\left|11\\right\\rangle$</td>\r\n",
       "                                <td>$0.8015 + 0.0000 i$</td>\r\n",
       "                                \r\n",
       "                                <td>\r\n",
       "                                    <progress\r\n",
       "                                        max=\"100\"\r\n",
       "                                        value=\"64.23982869379017\"\r\n",
       "                                        style=\"width: 100%;\"\r\n",
       "                                    > \r\n",
       "                                    <td>\r\n",
       "                                    <p id=\"round-683b2430-c5e9-4013-8c33-aee6fd966233\"> \r\n",
       "                                    <script>\r\n",
       "                                    var num = 64.23982869379017;\r\n",
       "                                    num = num.toFixed(4);\r\n",
       "                                    var num_string = num + \"%\";\r\n",
       "                                     document.getElementById(\"round-683b2430-c5e9-4013-8c33-aee6fd966233\").innerHTML = num_string;\r\n",
       "                                    </script> </p>\r\n",
       "                                    </td>\r\n",
       "                                </td>\r\n",
       "                            \r\n",
       "                                \r\n",
       "                                <td style=\"transform: rotate(0deg);\r\n",
       "                   text-align: center;\">\r\n",
       "                                 ↑\r\n",
       "                                </td>\r\n",
       "                            \r\n",
       "                            </tr>\r\n",
       "                        \r\n",
       "                        </tbody>\r\n",
       "                    </table>"
      ],
      "text/plain": [
       "|00⟩\t0.2671658425726324 + 0𝑖\n",
       "|01⟩\t0.5343316851452651 + 0𝑖\n",
       "|10⟩\t0.026716584257263237 + 0𝑖\n",
       "|11⟩\t0.8014975277178974 + 0𝑖"
      ]
     },
     "metadata": {},
     "output_type": "display_data"
    },
    {
     "data": {
      "application/x-qsharp-data": "{\"@type\":\"tuple\"}",
      "text/plain": [
       "()"
      ]
     },
     "execution_count": 4,
     "metadata": {},
     "output_type": "execute_result"
    }
   ],
   "source": [
    "%simulate DemoAmplitudeEncoding"
   ]
  },
  {
   "cell_type": "markdown",
   "id": "927e8c38",
   "metadata": {},
   "source": [
    "# Circuit Architecture\n",
    "\n",
    "## Generic Parameterized Gate"
   ]
  },
  {
   "cell_type": "code",
   "execution_count": 5,
   "id": "dd10e589",
   "metadata": {},
   "outputs": [
    {
     "data": {
      "application/x-qsharp-data": "[\"GateParams\"]",
      "text/html": [
       "<ul><li>GateParams</li></ul>"
      ],
      "text/plain": [
       "GateParams"
      ]
     },
     "execution_count": 5,
     "metadata": {},
     "output_type": "execute_result"
    }
   ],
   "source": [
    "// type representing generic gate parameters\n",
    "newtype GateParams = (angle: Double, exp_beta: Double, exp_gamma: Double);"
   ]
  },
  {
   "cell_type": "code",
   "execution_count": 6,
   "id": "d6368ab9",
   "metadata": {},
   "outputs": [
    {
     "data": {
      "application/x-qsharp-data": "[\"GenericGate\",\"DemoGenericGate\"]",
      "text/html": [
       "<ul><li>GenericGate</li><li>DemoGenericGate</li></ul>"
      ],
      "text/plain": [
       "GenericGate, DemoGenericGate"
      ]
     },
     "execution_count": 6,
     "metadata": {},
     "output_type": "execute_result"
    }
   ],
   "source": [
    "/// A generic, parameterized gate\n",
    "/// with the expressive power of any quantum gate\n",
    "operation GenericGate (\n",
    "    gateParams: GateParams,\n",
    "    q: Qubit\n",
    ") : Unit is Adj+Ctl {\n",
    "\n",
    "    let angle = gateParams::angle;\n",
    "    let exp_beta = gateParams::exp_beta;\n",
    "    let exp_gamma = gateParams::exp_gamma;\n",
    "    \n",
    "    Rz(-(exp_beta + exp_gamma), q);\n",
    "    Ry(-2.0 * angle, q);\n",
    "    Rz(exp_gamma - exp_beta, q);\n",
    "}\n",
    "\n",
    "operation DemoGenericGate () : Unit {\n",
    "    use q = Qubit();\n",
    "    use cq = Qubit();\n",
    "    H(cq);\n",
    "    //Controlled GenericGate([cq], (GateParams(3., 1., 9.), q));\n",
    "    \n",
    "    GenericGate(GateParams(3., 1., 9.), q);\n",
    "    \n",
    "    // Rz(-(1. + 9.)) Ry(-2. * 3.) Rz(9. - 1.)\n",
    "    // = Rz(-10) Ry(-6) Rz(8)\n",
    "    \n",
    "    DumpMachine();\n",
    "    \n",
    "    Reset(q);\n",
    "    Reset(cq);\n",
    "}"
   ]
  },
  {
   "cell_type": "code",
   "execution_count": 7,
   "id": "4a22d6ab",
   "metadata": {},
   "outputs": [
    {
     "data": {
      "application/x-qsharp-data": "{\"Html\":\"<div id='execution-path-container-0608bbca-2f3e-4a4f-89de-9eea13121899' />\"}",
      "text/html": [
       "<div id='execution-path-container-0608bbca-2f3e-4a4f-89de-9eea13121899' />"
      ],
      "text/plain": [
       "DisplayableHtmlElement { Html = <div id='execution-path-container-0608bbca-2f3e-4a4f-89de-9eea13121899' /> }"
      ]
     },
     "metadata": {},
     "output_type": "display_data"
    },
    {
     "data": {
      "application/x-qsharp-data": "{\"diagnostic_kind\":\"state-vector\",\"qubit_ids\":[0,1],\"n_qubits\":2,\"amplitudes\":{\"0\":{\"Real\":-0.37822804344190136,\"Imaginary\":-0.5890552765375272,\"Magnitude\":0.7000304076699752,\"Phase\":-2.141592653589793},\"1\":{\"Real\":0.09091887768704142,\"Imaginary\":-0.04112403211672341,\"Magnitude\":0.09978691466023236,\"Phase\":-0.42477796076937985},\"2\":{\"Real\":-0.37822804344190136,\"Imaginary\":-0.5890552765375272,\"Magnitude\":0.7000304076699752,\"Phase\":-2.141592653589793},\"3\":{\"Real\":0.09091887768704142,\"Imaginary\":-0.04112403211672341,\"Magnitude\":0.09978691466023236,\"Phase\":-0.42477796076937985}}}",
      "text/html": [
       "\r\n",
       "                    <table style=\"table-layout: fixed; width: 100%\">\r\n",
       "                        <thead>\r\n",
       "                            \r\n",
       "                        <tr>\r\n",
       "                            <th>Qubit IDs</th>\r\n",
       "                            <td span=\"3\">0, 1</td>\r\n",
       "                        </tr>\r\n",
       "                    \r\n",
       "                            <tr>\r\n",
       "                                <th style=\"width: 20ch)\">Basis state (bitstring)</th>\r\n",
       "                                <th style=\"width: 20ch\">Amplitude</th><th style=\"width: calc(100% - 26ch - 20ch)\">Meas. Pr.</th><th style=\"width: 6ch\">Phase</th>\r\n",
       "                            </tr>\r\n",
       "                        </thead>\r\n",
       "                        <tbody>\r\n",
       "                        \r\n",
       "                            <tr>\r\n",
       "                                <td>$\\left|00\\right\\rangle$</td>\r\n",
       "                                <td>$-0.3782  -0.5891 i$</td>\r\n",
       "                                \r\n",
       "                                <td>\r\n",
       "                                    <progress\r\n",
       "                                        max=\"100\"\r\n",
       "                                        value=\"49.004257166259166\"\r\n",
       "                                        style=\"width: 100%;\"\r\n",
       "                                    > \r\n",
       "                                    <td>\r\n",
       "                                    <p id=\"round-f9188a5b-189f-46ec-8409-6708cc395631\"> \r\n",
       "                                    <script>\r\n",
       "                                    var num = 49.004257166259166;\r\n",
       "                                    num = num.toFixed(4);\r\n",
       "                                    var num_string = num + \"%\";\r\n",
       "                                     document.getElementById(\"round-f9188a5b-189f-46ec-8409-6708cc395631\").innerHTML = num_string;\r\n",
       "                                    </script> </p>\r\n",
       "                                    </td>\r\n",
       "                                </td>\r\n",
       "                            \r\n",
       "                                \r\n",
       "                                <td style=\"transform: rotate(-122.70422048691768deg);\r\n",
       "                   text-align: center;\">\r\n",
       "                                 ↑\r\n",
       "                                </td>\r\n",
       "                            \r\n",
       "                            </tr>\r\n",
       "                        \n",
       "\r\n",
       "                            <tr>\r\n",
       "                                <td>$\\left|01\\right\\rangle$</td>\r\n",
       "                                <td>$-0.3782  -0.5891 i$</td>\r\n",
       "                                \r\n",
       "                                <td>\r\n",
       "                                    <progress\r\n",
       "                                        max=\"100\"\r\n",
       "                                        value=\"49.004257166259166\"\r\n",
       "                                        style=\"width: 100%;\"\r\n",
       "                                    > \r\n",
       "                                    <td>\r\n",
       "                                    <p id=\"round-669bce50-4f2a-401b-b6c4-86c90ae0b25d\"> \r\n",
       "                                    <script>\r\n",
       "                                    var num = 49.004257166259166;\r\n",
       "                                    num = num.toFixed(4);\r\n",
       "                                    var num_string = num + \"%\";\r\n",
       "                                     document.getElementById(\"round-669bce50-4f2a-401b-b6c4-86c90ae0b25d\").innerHTML = num_string;\r\n",
       "                                    </script> </p>\r\n",
       "                                    </td>\r\n",
       "                                </td>\r\n",
       "                            \r\n",
       "                                \r\n",
       "                                <td style=\"transform: rotate(-122.70422048691768deg);\r\n",
       "                   text-align: center;\">\r\n",
       "                                 ↑\r\n",
       "                                </td>\r\n",
       "                            \r\n",
       "                            </tr>\r\n",
       "                        \n",
       "\r\n",
       "                            <tr>\r\n",
       "                                <td>$\\left|10\\right\\rangle$</td>\r\n",
       "                                <td>$0.0909  -0.0411 i$</td>\r\n",
       "                                \r\n",
       "                                <td>\r\n",
       "                                    <progress\r\n",
       "                                        max=\"100\"\r\n",
       "                                        value=\"0.9957428337408496\"\r\n",
       "                                        style=\"width: 100%;\"\r\n",
       "                                    > \r\n",
       "                                    <td>\r\n",
       "                                    <p id=\"round-493ebdea-c3bd-441c-b738-50b3eea5bfc1\"> \r\n",
       "                                    <script>\r\n",
       "                                    var num = 0.9957428337408496;\r\n",
       "                                    num = num.toFixed(4);\r\n",
       "                                    var num_string = num + \"%\";\r\n",
       "                                     document.getElementById(\"round-493ebdea-c3bd-441c-b738-50b3eea5bfc1\").innerHTML = num_string;\r\n",
       "                                    </script> </p>\r\n",
       "                                    </td>\r\n",
       "                                </td>\r\n",
       "                            \r\n",
       "                                \r\n",
       "                                <td style=\"transform: rotate(-24.33798438225912deg);\r\n",
       "                   text-align: center;\">\r\n",
       "                                 ↑\r\n",
       "                                </td>\r\n",
       "                            \r\n",
       "                            </tr>\r\n",
       "                        \n",
       "\r\n",
       "                            <tr>\r\n",
       "                                <td>$\\left|11\\right\\rangle$</td>\r\n",
       "                                <td>$0.0909  -0.0411 i$</td>\r\n",
       "                                \r\n",
       "                                <td>\r\n",
       "                                    <progress\r\n",
       "                                        max=\"100\"\r\n",
       "                                        value=\"0.9957428337408496\"\r\n",
       "                                        style=\"width: 100%;\"\r\n",
       "                                    > \r\n",
       "                                    <td>\r\n",
       "                                    <p id=\"round-a81a6992-6b31-4fa7-9152-fd4434bdae0f\"> \r\n",
       "                                    <script>\r\n",
       "                                    var num = 0.9957428337408496;\r\n",
       "                                    num = num.toFixed(4);\r\n",
       "                                    var num_string = num + \"%\";\r\n",
       "                                     document.getElementById(\"round-a81a6992-6b31-4fa7-9152-fd4434bdae0f\").innerHTML = num_string;\r\n",
       "                                    </script> </p>\r\n",
       "                                    </td>\r\n",
       "                                </td>\r\n",
       "                            \r\n",
       "                                \r\n",
       "                                <td style=\"transform: rotate(-24.33798438225912deg);\r\n",
       "                   text-align: center;\">\r\n",
       "                                 ↑\r\n",
       "                                </td>\r\n",
       "                            \r\n",
       "                            </tr>\r\n",
       "                        \r\n",
       "                        </tbody>\r\n",
       "                    </table>"
      ],
      "text/plain": [
       "|00⟩\t-0.37822804344190136 + -0.5890552765375272𝑖\n",
       "|01⟩\t-0.37822804344190136 + -0.5890552765375272𝑖\n",
       "|10⟩\t0.09091887768704142 + -0.04112403211672341𝑖\n",
       "|11⟩\t0.09091887768704142 + -0.04112403211672341𝑖"
      ]
     },
     "metadata": {},
     "output_type": "display_data"
    },
    {
     "data": {
      "application/x-qsharp-data": "{\"@type\":\"tuple\"}",
      "text/plain": [
       "()"
      ]
     },
     "execution_count": 7,
     "metadata": {},
     "output_type": "execute_result"
    }
   ],
   "source": [
    "%trace DemoGenericGate\n",
    "%simulate DemoGenericGate"
   ]
  },
  {
   "cell_type": "markdown",
   "id": "4301fbf1",
   "metadata": {},
   "source": [
    "### Build Convolutional Circuit"
   ]
  },
  {
   "cell_type": "code",
   "execution_count": 8,
   "id": "c9f55218",
   "metadata": {},
   "outputs": [
    {
     "data": {
      "application/x-qsharp-data": "[\"ControlTargetPair\",\"LayerParams\"]",
      "text/html": [
       "<ul><li>ControlTargetPair</li><li>LayerParams</li></ul>"
      ],
      "text/plain": [
       "ControlTargetPair, LayerParams"
      ]
     },
     "execution_count": 8,
     "metadata": {},
     "output_type": "execute_result"
    }
   ],
   "source": [
    "/// Index pair representing index of a control qubit\n",
    "/// and the target qubit\n",
    "/// for a control gate\n",
    "///\n",
    "newtype ControlTargetPair = (control: Int, target: Int);\n",
    "\n",
    "/// Type to encapsulate 1 QNN layer's parameters\n",
    "///\n",
    "/// ASSUMES: controlGap <= Length(theta)\n",
    "///          Length(controlledTheta) <= Length(theta)\n",
    "///          Length(controlledTheta) is the expected length governed by \n",
    "///\n",
    "newtype LayerParams = (\n",
    "    theta: GateParams[],\n",
    "    controlledTheta: GateParams[],\n",
    "    controlGap: Int\n",
    ");"
   ]
  },
  {
   "cell_type": "code",
   "execution_count": 9,
   "id": "93cf260e",
   "metadata": {},
   "outputs": [
    {
     "data": {
      "application/x-qsharp-data": "[\"BuildControlTargetPairs\",\"ConvolutionalLayer\"]",
      "text/html": [
       "<ul><li>BuildControlTargetPairs</li><li>ConvolutionalLayer</li></ul>"
      ],
      "text/plain": [
       "BuildControlTargetPairs, ConvolutionalLayer"
      ]
     },
     "execution_count": 9,
     "metadata": {},
     "output_type": "execute_result"
    }
   ],
   "source": [
    "function BuildControlTargetPairs (\n",
    "    numQubits: Int,\n",
    "    gapSize: Int\n",
    ") : ControlTargetPair[] {\n",
    "    \n",
    "    mutable pairs = [];\n",
    "    for idx in 1..(numQubits / GreatestCommonDivisorI(numQubits, gapSize)) {\n",
    "    \n",
    "        // pairs list + list containing single item, next ControlTargetPair\n",
    "        set pairs +=\n",
    "            [\n",
    "                ControlTargetPair(\n",
    "                    (idx * gapSize) % numQubits,\n",
    "                    (idx * gapSize - gapSize) % numQubits\n",
    "                )\n",
    "            ];\n",
    "    }\n",
    "    \n",
    "    return pairs;\n",
    "}\n",
    "\n",
    "/// Build the convolution circuit\n",
    "/// theta:\n",
    "///      list of GateParams\n",
    "///      to be applied to GenericGates\n",
    "/// controlled_theta:\n",
    "///      list of GateParams\n",
    "///      to be applied to Controlled GenericGates\n",
    "/// control_gap:\n",
    "///       the space b/w each control qubit\n",
    "///       and the target qubit (w/ wrap around from qubit n-1 back to qubit 0)\n",
    "///       ***larger gap means fewer control gates\n",
    "///\n",
    "/// ASSUMES: length of theta is equal to number of qubits in qRegister\n",
    "///\n",
    "operation ConvolutionalLayer (\n",
    "    layerParams: LayerParams,\n",
    "    qs: Qubit[]\n",
    ") : Unit is Adj+Ctl {\n",
    "    \n",
    "    let theta = layerParams::theta;\n",
    "    let controlledTheta = layerParams::controlledTheta;\n",
    "    let controlGap = layerParams::controlGap;\n",
    "    \n",
    "    // apply the single-qubit gates\n",
    "    for idx in 0..Length(qs) - 1 {\n",
    "        GenericGate(theta[idx], qs[idx]);\n",
    "    }\n",
    "    \n",
    "    // apply the controlled 2-qubit gates\n",
    "    let ctlTargPairs = BuildControlTargetPairs(Length(qs), controlGap);\n",
    "    for idx in 0..Length(ctlTargPairs) - 1 {\n",
    "        let ctlIndex  = ctlTargPairs[idx]::control;\n",
    "        let targIndex = ctlTargPairs[idx]::target;\n",
    "        \n",
    "        Controlled GenericGate(\n",
    "            [qs[ctlIndex]],\n",
    "            (controlledTheta[idx], qs[targIndex])\n",
    "        );\n",
    "    }\n",
    "}"
   ]
  },
  {
   "cell_type": "markdown",
   "id": "431dd8a1",
   "metadata": {},
   "source": [
    "### A Sample convolution circuit"
   ]
  },
  {
   "cell_type": "code",
   "execution_count": 11,
   "id": "1d0da827",
   "metadata": {
    "scrolled": true
   },
   "outputs": [
    {
     "data": {
      "application/x-qsharp-data": "[\"SampleConvolutionCircuit\"]",
      "text/html": [
       "<ul><li>SampleConvolutionCircuit</li></ul>"
      ],
      "text/plain": [
       "SampleConvolutionCircuit"
      ]
     },
     "execution_count": 11,
     "metadata": {},
     "output_type": "execute_result"
    }
   ],
   "source": [
    "operation SampleConvolutionCircuit () : Unit {\n",
    "    let numQubits = 3;\n",
    "\n",
    "    let theta = [\n",
    "        GateParams(0.5, 1.7, 2.3),\n",
    "        GateParams(12., 1.0, 10.),\n",
    "        GateParams(7.1, 1.6, 5.3)\n",
    "    ];\n",
    "\n",
    "    let controlledTheta = [\n",
    "        GateParams(1., 7., 9.),\n",
    "        GateParams(4., 2., 1.),\n",
    "        GateParams(3., 6., 2.)\n",
    "    ];\n",
    "\n",
    "    let controlGap = 1;\n",
    "    \n",
    "    let layerParams = LayerParams(theta, controlledTheta, controlGap);\n",
    "    \n",
    "    use qs = Qubit[numQubits];\n",
    "    \n",
    "    ConvolutionalLayer(layerParams, qs);\n",
    "    \n",
    "    ResetAll(qs);\n",
    "}"
   ]
  },
  {
   "cell_type": "code",
   "execution_count": 12,
   "id": "71af21f3",
   "metadata": {},
   "outputs": [
    {
     "data": {
      "application/x-qsharp-data": "{\"Html\":\"<div id='execution-path-container-3e57b16d-4b4a-4611-bd5b-d8d63a895aca' />\"}",
      "text/html": [
       "<div id='execution-path-container-3e57b16d-4b4a-4611-bd5b-d8d63a895aca' />"
      ],
      "text/plain": [
       "DisplayableHtmlElement { Html = <div id='execution-path-container-3e57b16d-4b4a-4611-bd5b-d8d63a895aca' /> }"
      ]
     },
     "metadata": {},
     "output_type": "display_data"
    }
   ],
   "source": [
    "%trace SampleConvolutionCircuit"
   ]
  },
  {
   "cell_type": "markdown",
   "id": "6ac1d2bc",
   "metadata": {},
   "source": [
    "### Sample Amplitude Encoding + Convolution Circuit + Measure"
   ]
  },
  {
   "cell_type": "code",
   "execution_count": 13,
   "id": "27908ba5",
   "metadata": {},
   "outputs": [
    {
     "data": {
      "application/x-qsharp-data": "[\"SampleFullCircuit\"]",
      "text/html": [
       "<ul><li>SampleFullCircuit</li></ul>"
      ],
      "text/plain": [
       "SampleFullCircuit"
      ]
     },
     "execution_count": 13,
     "metadata": {},
     "output_type": "execute_result"
    }
   ],
   "source": [
    "operation SampleFullCircuit () : Result[] {\n",
    "    let numQubits = 3;\n",
    "    let theta = [\n",
    "        GateParams(0.5, 1.7, 2.3),\n",
    "        GateParams(12., 1.0, 10.),\n",
    "        GateParams(7.1, 1.6, 5.3)\n",
    "    ];\n",
    "\n",
    "    let controlledTheta = [\n",
    "        GateParams(1., 7., 9.),\n",
    "        GateParams(4., 2., 1.),\n",
    "        GateParams(3., 6., 2.)\n",
    "    ];\n",
    "\n",
    "    let controlGap = 1;\n",
    "    \n",
    "    let amplitudes = [1.0, 2.0, 3.0];\n",
    "    use qs = Qubit[numQubits];\n",
    "    let qRegister = LittleEndian(qs);\n",
    "    \n",
    "    PrepareArbitraryStateD(amplitudes, qRegister);\n",
    "    \n",
    "    let layerParams = LayerParams(theta, controlledTheta, controlGap);\n",
    "    ConvolutionalLayer(layerParams, qs);\n",
    "    let results = MeasureEachZ(qs);\n",
    "    \n",
    "    \n",
    "    ResetAll(qs);\n",
    "    \n",
    "    return results;\n",
    "}"
   ]
  },
  {
   "cell_type": "code",
   "execution_count": 14,
   "id": "578045aa",
   "metadata": {},
   "outputs": [
    {
     "data": {
      "application/x-qsharp-data": "{\"Html\":\"<div id='execution-path-container-aee6563b-9ef0-4c32-8145-6f6b4e370b3d' />\"}",
      "text/html": [
       "<div id='execution-path-container-aee6563b-9ef0-4c32-8145-6f6b4e370b3d' />"
      ],
      "text/plain": [
       "DisplayableHtmlElement { Html = <div id='execution-path-container-aee6563b-9ef0-4c32-8145-6f6b4e370b3d' /> }"
      ]
     },
     "metadata": {},
     "output_type": "display_data"
    },
    {
     "data": {
      "application/x-qsharp-data": "[0,1,1]",
      "text/html": [
       "<ul><li>Zero</li><li>One</li><li>One</li></ul>"
      ],
      "text/plain": [
       "Zero, One, One"
      ]
     },
     "execution_count": 14,
     "metadata": {},
     "output_type": "execute_result"
    }
   ],
   "source": [
    "%trace SampleFullCircuit\n",
    "%simulate SampleFullCircuit"
   ]
  },
  {
   "cell_type": "markdown",
   "id": "29f0679f",
   "metadata": {},
   "source": [
    "## Consider the Possibilities\n",
    "\n",
    "### Could learn to entangle"
   ]
  },
  {
   "cell_type": "code",
   "execution_count": 15,
   "id": "ab01c989",
   "metadata": {},
   "outputs": [
    {
     "data": {
      "application/x-qsharp-data": "[\"Entangle\"]",
      "text/html": [
       "<ul><li>Entangle</li></ul>"
      ],
      "text/plain": [
       "Entangle"
      ]
     },
     "execution_count": 15,
     "metadata": {},
     "output_type": "execute_result"
    }
   ],
   "source": [
    "operation Entangle () : Unit {\n",
    "    use qs = Qubit[2];\n",
    "    H(qs[0]);\n",
    "    I(qs[1]);\n",
    "    CNOT(qs[0], qs[1]);\n",
    "    \n",
    "    DumpMachine();\n",
    "    \n",
    "    ResetAll(qs);\n",
    "}"
   ]
  },
  {
   "cell_type": "code",
   "execution_count": 16,
   "id": "d4083d16",
   "metadata": {},
   "outputs": [
    {
     "data": {
      "application/x-qsharp-data": "{\"diagnostic_kind\":\"state-vector\",\"qubit_ids\":[0,1],\"n_qubits\":2,\"amplitudes\":{\"0\":{\"Real\":0.7071067811865476,\"Imaginary\":0.0,\"Magnitude\":0.7071067811865476,\"Phase\":0.0},\"1\":{\"Real\":0.0,\"Imaginary\":0.0,\"Magnitude\":0.0,\"Phase\":0.0},\"2\":{\"Real\":0.0,\"Imaginary\":0.0,\"Magnitude\":0.0,\"Phase\":0.0},\"3\":{\"Real\":0.7071067811865476,\"Imaginary\":0.0,\"Magnitude\":0.7071067811865476,\"Phase\":0.0}}}",
      "text/html": [
       "\r\n",
       "                    <table style=\"table-layout: fixed; width: 100%\">\r\n",
       "                        <thead>\r\n",
       "                            \r\n",
       "                        <tr>\r\n",
       "                            <th>Qubit IDs</th>\r\n",
       "                            <td span=\"3\">0, 1</td>\r\n",
       "                        </tr>\r\n",
       "                    \r\n",
       "                            <tr>\r\n",
       "                                <th style=\"width: 20ch)\">Basis state (bitstring)</th>\r\n",
       "                                <th style=\"width: 20ch\">Amplitude</th><th style=\"width: calc(100% - 26ch - 20ch)\">Meas. Pr.</th><th style=\"width: 6ch\">Phase</th>\r\n",
       "                            </tr>\r\n",
       "                        </thead>\r\n",
       "                        <tbody>\r\n",
       "                        \r\n",
       "                            <tr>\r\n",
       "                                <td>$\\left|00\\right\\rangle$</td>\r\n",
       "                                <td>$0.7071 + 0.0000 i$</td>\r\n",
       "                                \r\n",
       "                                <td>\r\n",
       "                                    <progress\r\n",
       "                                        max=\"100\"\r\n",
       "                                        value=\"50.000000000000014\"\r\n",
       "                                        style=\"width: 100%;\"\r\n",
       "                                    > \r\n",
       "                                    <td>\r\n",
       "                                    <p id=\"round-a155a749-dc73-4d1e-a65f-e74a361e606f\"> \r\n",
       "                                    <script>\r\n",
       "                                    var num = 50.000000000000014;\r\n",
       "                                    num = num.toFixed(4);\r\n",
       "                                    var num_string = num + \"%\";\r\n",
       "                                     document.getElementById(\"round-a155a749-dc73-4d1e-a65f-e74a361e606f\").innerHTML = num_string;\r\n",
       "                                    </script> </p>\r\n",
       "                                    </td>\r\n",
       "                                </td>\r\n",
       "                            \r\n",
       "                                \r\n",
       "                                <td style=\"transform: rotate(0deg);\r\n",
       "                   text-align: center;\">\r\n",
       "                                 ↑\r\n",
       "                                </td>\r\n",
       "                            \r\n",
       "                            </tr>\r\n",
       "                        \n",
       "\r\n",
       "                            <tr>\r\n",
       "                                <td>$\\left|01\\right\\rangle$</td>\r\n",
       "                                <td>$0.0000 + 0.0000 i$</td>\r\n",
       "                                \r\n",
       "                                <td>\r\n",
       "                                    <progress\r\n",
       "                                        max=\"100\"\r\n",
       "                                        value=\"0\"\r\n",
       "                                        style=\"width: 100%;\"\r\n",
       "                                    > \r\n",
       "                                    <td>\r\n",
       "                                    <p id=\"round-2f151c95-b127-4322-a807-e161daae06c1\"> \r\n",
       "                                    <script>\r\n",
       "                                    var num = 0;\r\n",
       "                                    num = num.toFixed(4);\r\n",
       "                                    var num_string = num + \"%\";\r\n",
       "                                     document.getElementById(\"round-2f151c95-b127-4322-a807-e161daae06c1\").innerHTML = num_string;\r\n",
       "                                    </script> </p>\r\n",
       "                                    </td>\r\n",
       "                                </td>\r\n",
       "                            \r\n",
       "                                \r\n",
       "                                <td style=\"transform: rotate(0deg);\r\n",
       "                   text-align: center;\">\r\n",
       "                                 ↑\r\n",
       "                                </td>\r\n",
       "                            \r\n",
       "                            </tr>\r\n",
       "                        \n",
       "\r\n",
       "                            <tr>\r\n",
       "                                <td>$\\left|10\\right\\rangle$</td>\r\n",
       "                                <td>$0.0000 + 0.0000 i$</td>\r\n",
       "                                \r\n",
       "                                <td>\r\n",
       "                                    <progress\r\n",
       "                                        max=\"100\"\r\n",
       "                                        value=\"0\"\r\n",
       "                                        style=\"width: 100%;\"\r\n",
       "                                    > \r\n",
       "                                    <td>\r\n",
       "                                    <p id=\"round-d843b399-874a-46a1-acad-d67f5dfe2be1\"> \r\n",
       "                                    <script>\r\n",
       "                                    var num = 0;\r\n",
       "                                    num = num.toFixed(4);\r\n",
       "                                    var num_string = num + \"%\";\r\n",
       "                                     document.getElementById(\"round-d843b399-874a-46a1-acad-d67f5dfe2be1\").innerHTML = num_string;\r\n",
       "                                    </script> </p>\r\n",
       "                                    </td>\r\n",
       "                                </td>\r\n",
       "                            \r\n",
       "                                \r\n",
       "                                <td style=\"transform: rotate(0deg);\r\n",
       "                   text-align: center;\">\r\n",
       "                                 ↑\r\n",
       "                                </td>\r\n",
       "                            \r\n",
       "                            </tr>\r\n",
       "                        \n",
       "\r\n",
       "                            <tr>\r\n",
       "                                <td>$\\left|11\\right\\rangle$</td>\r\n",
       "                                <td>$0.7071 + 0.0000 i$</td>\r\n",
       "                                \r\n",
       "                                <td>\r\n",
       "                                    <progress\r\n",
       "                                        max=\"100\"\r\n",
       "                                        value=\"50.000000000000014\"\r\n",
       "                                        style=\"width: 100%;\"\r\n",
       "                                    > \r\n",
       "                                    <td>\r\n",
       "                                    <p id=\"round-855960c5-a582-4d0b-a556-d696c5cfeb2b\"> \r\n",
       "                                    <script>\r\n",
       "                                    var num = 50.000000000000014;\r\n",
       "                                    num = num.toFixed(4);\r\n",
       "                                    var num_string = num + \"%\";\r\n",
       "                                     document.getElementById(\"round-855960c5-a582-4d0b-a556-d696c5cfeb2b\").innerHTML = num_string;\r\n",
       "                                    </script> </p>\r\n",
       "                                    </td>\r\n",
       "                                </td>\r\n",
       "                            \r\n",
       "                                \r\n",
       "                                <td style=\"transform: rotate(0deg);\r\n",
       "                   text-align: center;\">\r\n",
       "                                 ↑\r\n",
       "                                </td>\r\n",
       "                            \r\n",
       "                            </tr>\r\n",
       "                        \r\n",
       "                        </tbody>\r\n",
       "                    </table>"
      ],
      "text/plain": [
       "|00⟩\t0.7071067811865476 + 0𝑖\n",
       "|01⟩\t0 + 0𝑖\n",
       "|10⟩\t0 + 0𝑖\n",
       "|11⟩\t0.7071067811865476 + 0𝑖"
      ]
     },
     "metadata": {},
     "output_type": "display_data"
    },
    {
     "data": {
      "application/x-qsharp-data": "{\"Html\":\"<div id='execution-path-container-d872e8fe-0145-41f2-82cf-d1ebeb394ba9' />\"}",
      "text/html": [
       "<div id='execution-path-container-d872e8fe-0145-41f2-82cf-d1ebeb394ba9' />"
      ],
      "text/plain": [
       "DisplayableHtmlElement { Html = <div id='execution-path-container-d872e8fe-0145-41f2-82cf-d1ebeb394ba9' /> }"
      ]
     },
     "metadata": {},
     "output_type": "display_data"
    }
   ],
   "source": [
    "%simulate Entangle\n",
    "%trace Entangle"
   ]
  },
  {
   "cell_type": "markdown",
   "id": "a30c35e2",
   "metadata": {},
   "source": [
    "### ...Or not"
   ]
  },
  {
   "cell_type": "code",
   "execution_count": 17,
   "id": "327a40e5",
   "metadata": {},
   "outputs": [
    {
     "data": {
      "application/x-qsharp-data": "[\"DontEntangle\"]",
      "text/html": [
       "<ul><li>DontEntangle</li></ul>"
      ],
      "text/plain": [
       "DontEntangle"
      ]
     },
     "execution_count": 17,
     "metadata": {},
     "output_type": "execute_result"
    }
   ],
   "source": [
    "operation DontEntangle () : Unit {\n",
    "    use qs = Qubit[2];\n",
    "    H(qs[1]);\n",
    "    X(qs[0]);\n",
    "    CNOT(qs[0], qs[1]);\n",
    "    \n",
    "    DumpMachine();\n",
    "    \n",
    "    ResetAll(qs);\n",
    "}"
   ]
  },
  {
   "cell_type": "code",
   "execution_count": 18,
   "id": "2ac66668",
   "metadata": {},
   "outputs": [
    {
     "data": {
      "application/x-qsharp-data": "{\"diagnostic_kind\":\"state-vector\",\"qubit_ids\":[0,1],\"n_qubits\":2,\"amplitudes\":{\"0\":{\"Real\":0.0,\"Imaginary\":0.0,\"Magnitude\":0.0,\"Phase\":0.0},\"1\":{\"Real\":0.7071067811865476,\"Imaginary\":0.0,\"Magnitude\":0.7071067811865476,\"Phase\":0.0},\"2\":{\"Real\":0.0,\"Imaginary\":0.0,\"Magnitude\":0.0,\"Phase\":0.0},\"3\":{\"Real\":0.7071067811865476,\"Imaginary\":0.0,\"Magnitude\":0.7071067811865476,\"Phase\":0.0}}}",
      "text/html": [
       "\r\n",
       "                    <table style=\"table-layout: fixed; width: 100%\">\r\n",
       "                        <thead>\r\n",
       "                            \r\n",
       "                        <tr>\r\n",
       "                            <th>Qubit IDs</th>\r\n",
       "                            <td span=\"3\">0, 1</td>\r\n",
       "                        </tr>\r\n",
       "                    \r\n",
       "                            <tr>\r\n",
       "                                <th style=\"width: 20ch)\">Basis state (bitstring)</th>\r\n",
       "                                <th style=\"width: 20ch\">Amplitude</th><th style=\"width: calc(100% - 26ch - 20ch)\">Meas. Pr.</th><th style=\"width: 6ch\">Phase</th>\r\n",
       "                            </tr>\r\n",
       "                        </thead>\r\n",
       "                        <tbody>\r\n",
       "                        \r\n",
       "                            <tr>\r\n",
       "                                <td>$\\left|00\\right\\rangle$</td>\r\n",
       "                                <td>$0.0000 + 0.0000 i$</td>\r\n",
       "                                \r\n",
       "                                <td>\r\n",
       "                                    <progress\r\n",
       "                                        max=\"100\"\r\n",
       "                                        value=\"0\"\r\n",
       "                                        style=\"width: 100%;\"\r\n",
       "                                    > \r\n",
       "                                    <td>\r\n",
       "                                    <p id=\"round-b1cdb195-779b-4a1a-b2c5-58794a300835\"> \r\n",
       "                                    <script>\r\n",
       "                                    var num = 0;\r\n",
       "                                    num = num.toFixed(4);\r\n",
       "                                    var num_string = num + \"%\";\r\n",
       "                                     document.getElementById(\"round-b1cdb195-779b-4a1a-b2c5-58794a300835\").innerHTML = num_string;\r\n",
       "                                    </script> </p>\r\n",
       "                                    </td>\r\n",
       "                                </td>\r\n",
       "                            \r\n",
       "                                \r\n",
       "                                <td style=\"transform: rotate(0deg);\r\n",
       "                   text-align: center;\">\r\n",
       "                                 ↑\r\n",
       "                                </td>\r\n",
       "                            \r\n",
       "                            </tr>\r\n",
       "                        \n",
       "\r\n",
       "                            <tr>\r\n",
       "                                <td>$\\left|01\\right\\rangle$</td>\r\n",
       "                                <td>$0.0000 + 0.0000 i$</td>\r\n",
       "                                \r\n",
       "                                <td>\r\n",
       "                                    <progress\r\n",
       "                                        max=\"100\"\r\n",
       "                                        value=\"0\"\r\n",
       "                                        style=\"width: 100%;\"\r\n",
       "                                    > \r\n",
       "                                    <td>\r\n",
       "                                    <p id=\"round-56e45fe1-1edd-4dce-9ae5-c8fe48a6b6a1\"> \r\n",
       "                                    <script>\r\n",
       "                                    var num = 0;\r\n",
       "                                    num = num.toFixed(4);\r\n",
       "                                    var num_string = num + \"%\";\r\n",
       "                                     document.getElementById(\"round-56e45fe1-1edd-4dce-9ae5-c8fe48a6b6a1\").innerHTML = num_string;\r\n",
       "                                    </script> </p>\r\n",
       "                                    </td>\r\n",
       "                                </td>\r\n",
       "                            \r\n",
       "                                \r\n",
       "                                <td style=\"transform: rotate(0deg);\r\n",
       "                   text-align: center;\">\r\n",
       "                                 ↑\r\n",
       "                                </td>\r\n",
       "                            \r\n",
       "                            </tr>\r\n",
       "                        \n",
       "\r\n",
       "                            <tr>\r\n",
       "                                <td>$\\left|10\\right\\rangle$</td>\r\n",
       "                                <td>$0.7071 + 0.0000 i$</td>\r\n",
       "                                \r\n",
       "                                <td>\r\n",
       "                                    <progress\r\n",
       "                                        max=\"100\"\r\n",
       "                                        value=\"50.000000000000014\"\r\n",
       "                                        style=\"width: 100%;\"\r\n",
       "                                    > \r\n",
       "                                    <td>\r\n",
       "                                    <p id=\"round-c442ea53-4467-4bac-afde-132e9e7d8f56\"> \r\n",
       "                                    <script>\r\n",
       "                                    var num = 50.000000000000014;\r\n",
       "                                    num = num.toFixed(4);\r\n",
       "                                    var num_string = num + \"%\";\r\n",
       "                                     document.getElementById(\"round-c442ea53-4467-4bac-afde-132e9e7d8f56\").innerHTML = num_string;\r\n",
       "                                    </script> </p>\r\n",
       "                                    </td>\r\n",
       "                                </td>\r\n",
       "                            \r\n",
       "                                \r\n",
       "                                <td style=\"transform: rotate(0deg);\r\n",
       "                   text-align: center;\">\r\n",
       "                                 ↑\r\n",
       "                                </td>\r\n",
       "                            \r\n",
       "                            </tr>\r\n",
       "                        \n",
       "\r\n",
       "                            <tr>\r\n",
       "                                <td>$\\left|11\\right\\rangle$</td>\r\n",
       "                                <td>$0.7071 + 0.0000 i$</td>\r\n",
       "                                \r\n",
       "                                <td>\r\n",
       "                                    <progress\r\n",
       "                                        max=\"100\"\r\n",
       "                                        value=\"50.000000000000014\"\r\n",
       "                                        style=\"width: 100%;\"\r\n",
       "                                    > \r\n",
       "                                    <td>\r\n",
       "                                    <p id=\"round-90f38c44-9b0f-4999-a180-04df7dc6d465\"> \r\n",
       "                                    <script>\r\n",
       "                                    var num = 50.000000000000014;\r\n",
       "                                    num = num.toFixed(4);\r\n",
       "                                    var num_string = num + \"%\";\r\n",
       "                                     document.getElementById(\"round-90f38c44-9b0f-4999-a180-04df7dc6d465\").innerHTML = num_string;\r\n",
       "                                    </script> </p>\r\n",
       "                                    </td>\r\n",
       "                                </td>\r\n",
       "                            \r\n",
       "                                \r\n",
       "                                <td style=\"transform: rotate(0deg);\r\n",
       "                   text-align: center;\">\r\n",
       "                                 ↑\r\n",
       "                                </td>\r\n",
       "                            \r\n",
       "                            </tr>\r\n",
       "                        \r\n",
       "                        </tbody>\r\n",
       "                    </table>"
      ],
      "text/plain": [
       "|00⟩\t0 + 0𝑖\n",
       "|01⟩\t0 + 0𝑖\n",
       "|10⟩\t0.7071067811865476 + 0𝑖\n",
       "|11⟩\t0.7071067811865476 + 0𝑖"
      ]
     },
     "metadata": {},
     "output_type": "display_data"
    },
    {
     "data": {
      "application/x-qsharp-data": "{\"Html\":\"<div id='execution-path-container-743839a0-19ed-40e0-94d5-672761d116e4' />\"}",
      "text/html": [
       "<div id='execution-path-container-743839a0-19ed-40e0-94d5-672761d116e4' />"
      ],
      "text/plain": [
       "DisplayableHtmlElement { Html = <div id='execution-path-container-743839a0-19ed-40e0-94d5-672761d116e4' /> }"
      ]
     },
     "metadata": {},
     "output_type": "display_data"
    }
   ],
   "source": [
    "%simulate DontEntangle\n",
    "%trace DontEntangle"
   ]
  },
  {
   "cell_type": "markdown",
   "id": "947e1646",
   "metadata": {},
   "source": [
    "## Compute Expected Value of Measurement\n",
    "\n",
    "$$\n",
    "\\sigma_z = \\sum_i z_i p(z_i)\n",
    "$$\n",
    "\n",
    "Approximate probabilities as frequencies over `S` attempts (`S` is a hyperparameter)"
   ]
  },
  {
   "cell_type": "code",
   "execution_count": 22,
   "id": "b2340d24",
   "metadata": {},
   "outputs": [
    {
     "data": {
      "application/x-qsharp-data": "[\"QNN\"]",
      "text/html": [
       "<ul><li>QNN</li></ul>"
      ],
      "text/plain": [
       "QNN"
      ]
     },
     "execution_count": 22,
     "metadata": {},
     "output_type": "execute_result"
    }
   ],
   "source": [
    "/// The full qnn circuit\n",
    "///\n",
    "/// INPUT:\n",
    "///        featureVector\n",
    "///            - the preprocessed feature vector\n",
    "///                (\n",
    "///                    with input values repeated,\n",
    "///                    padded with ancillary features,\n",
    "///                    and length equal to an integral factor of 2\n",
    "///                )\n",
    "///        allLayersParams\n",
    "///            - array of each convolutional layer's params\n",
    "///        sampleCount\n",
    "///            - the number of samples to take when approximating state probabilities\n",
    "/// ASSUMES:\n",
    "///      length of every layer's theta is the same (in allLayersParams),\n",
    "///      and complies with assumptions of LayerParams\n",
    "///\n",
    "///      \n",
    "///\n",
    "operation QNN (\n",
    "    featureVector : Double[],\n",
    "    allLayersParams : LayerParams[]\n",
    ") : Int {\n",
    "    \n",
    "    // derive and reserve number of qubits required for amplitude encoding\n",
    "    // (assumes featureVector is an integral length of a power of 2)\n",
    "    let numQubits = DoubleAsInt(\n",
    "        Lg(\n",
    "            IntAsDouble(\n",
    "                Length(featureVector)\n",
    "            )\n",
    "        )\n",
    "    );\n",
    "    \n",
    "    use qs = Qubit[numQubits];\n",
    "    let qRegister = LittleEndian(qs);\n",
    "    \n",
    "    // encode features as amplitudes\n",
    "    PrepareArbitraryStateD(featureVector, qRegister);\n",
    "    \n",
    "    // apply the LayerParams\n",
    "    for layerParams in allLayersParams {\n",
    "        ConvolutionalLayer(layerParams, qs);\n",
    "    }\n",
    "    \n",
    "    // measure\n",
    "    //let results = MeasureEachZ(qs);\n",
    "    let result = MeasureInteger(qRegister);\n",
    "    \n",
    "    // cleanup\n",
    "    ResetAll(qs);\n",
    "    \n",
    "    // return results\n",
    "    //return Mapped(x -> x == One ? true | false, results);\n",
    "    return result;\n",
    "}"
   ]
  },
  {
   "cell_type": "code",
   "execution_count": 25,
   "id": "65836a87",
   "metadata": {},
   "outputs": [
    {
     "data": {
      "application/x-qsharp-data": "{\"Source\":\"operation LearnQNN (\\n    featureVector : Double[],\\n    allLayersParams : LayerParams[],\\n    sampleCount : Int\\n) : Double {\\n    \\n    mutable sum = Int(0);\\n    for i in 0..sampleCount {\\n        let outcome = QNN(featureVector, allLayersParams);\\n        sum += outcome;\\n    }\\n    \\n    return IntAsDouble(sum) / IntAsDouble(sampleCount);\\n}\",\"Diagnostic\":{\"range\":{\"start\":{\"line\":6,\"character\":21},\"end\":{\"line\":6,\"character\":24}},\"severity\":1,\"code\":\"QS3035\",\"source\":\"C:\\\\snippet_.qs\",\"message\":\"Unexpected code fragment.\"},\"Hint\":null}",
      "text/html": [
       "<strong>Error QS3035</strong>: Unexpected code fragment.\n",
       "<pre><code> 6 |     \n",
       " 7 |     mutable sum = Int<span style=\"font-weight: bold; text-decoration: underline; text-decoration-style: wavy; text-decoration-color: red\">(0)</span>;\n",
       " 8 |     for i in 0..sampleCount {</code></pre>"
      ],
      "text/plain": [
       "Error QS3035: Unexpected code fragment.\n",
       " 6 |     \n",
       " 7 |     mutable sum = Int(0);\n",
       "   |                      ^^^\n",
       " 8 |     for i in 0..sampleCount {"
      ]
     },
     "metadata": {},
     "output_type": "display_data"
    },
    {
     "data": {
      "application/x-qsharp-data": "{\"Source\":\"operation LearnQNN (\\n    featureVector : Double[],\\n    allLayersParams : LayerParams[],\\n    sampleCount : Int\\n) : Double {\\n    \\n    mutable sum = Int(0);\\n    for i in 0..sampleCount {\\n        let outcome = QNN(featureVector, allLayersParams);\\n        sum += outcome;\\n    }\\n    \\n    return IntAsDouble(sum) / IntAsDouble(sampleCount);\\n}\",\"Diagnostic\":{\"range\":{\"start\":{\"line\":6,\"character\":18},\"end\":{\"line\":6,\"character\":21}},\"severity\":1,\"code\":\"QS3032\",\"source\":\"C:\\\\snippet_.qs\",\"message\":\"Invalid use of a reserved keyword within an expression.\"},\"Hint\":null}",
      "text/html": [
       "<strong>Error QS3032</strong>: Invalid use of a reserved keyword within an expression.\n",
       "<pre><code> 6 |     \n",
       " 7 |     mutable sum = <span style=\"font-weight: bold; text-decoration: underline; text-decoration-style: wavy; text-decoration-color: red\">Int</span>(0);\n",
       " 8 |     for i in 0..sampleCount {</code></pre>"
      ],
      "text/plain": [
       "Error QS3032: Invalid use of a reserved keyword within an expression.\n",
       " 6 |     \n",
       " 7 |     mutable sum = Int(0);\n",
       "   |                   ^^^\n",
       " 8 |     for i in 0..sampleCount {"
      ]
     },
     "metadata": {},
     "output_type": "display_data"
    },
    {
     "data": {
      "application/x-qsharp-data": "{\"Source\":\"operation LearnQNN (\\n    featureVector : Double[],\\n    allLayersParams : LayerParams[],\\n    sampleCount : Int\\n) : Double {\\n    \\n    mutable sum = Int(0);\\n    for i in 0..sampleCount {\\n        let outcome = QNN(featureVector, allLayersParams);\\n        sum += outcome;\\n    }\\n    \\n    return IntAsDouble(sum) / IntAsDouble(sampleCount);\\n}\",\"Diagnostic\":{\"range\":{\"start\":{\"line\":9,\"character\":8},\"end\":{\"line\":9,\"character\":22}},\"severity\":1,\"code\":\"QS3001\",\"source\":\"C:\\\\snippet_.qs\",\"message\":\"Syntax does not match any known patterns.\"},\"Hint\":null}",
      "text/html": [
       "<strong>Error QS3001</strong>: Syntax does not match any known patterns.\n",
       "<pre><code>  9 |         let outcome = QNN(featureVector, allLayersParams);\n",
       " 10 |         <span style=\"font-weight: bold; text-decoration: underline; text-decoration-style: wavy; text-decoration-color: red\">sum += outcome</span>;\n",
       " 11 |     }</code></pre>"
      ],
      "text/plain": [
       "Error QS3001: Syntax does not match any known patterns.\n",
       "  9 |         let outcome = QNN(featureVector, allLayersParams);\n",
       " 10 |         sum += outcome;\n",
       "    |         ^^^^^^^^^^^^^^\n",
       " 11 |     }"
      ]
     },
     "metadata": {},
     "output_type": "display_data"
    }
   ],
   "source": [
    "operation LearnQNN (\n",
    "    featureVector : Double[],\n",
    "    allLayersParams : LayerParams[],\n",
    "    sampleCount : Int\n",
    ") : Double {\n",
    "    \n",
    "    mutable sum = Int(0);\n",
    "    for i in 0..sampleCount {\n",
    "        let outcome = QNN(featureVector, allLayersParams);\n",
    "        sum += outcome;\n",
    "    }\n",
    "    \n",
    "    return IntAsDouble(sum) / IntAsDouble(sampleCount);\n",
    "}"
   ]
  },
  {
   "cell_type": "code",
   "execution_count": null,
   "id": "777df64b",
   "metadata": {},
   "outputs": [],
   "source": [
    "operation SampleFullCircuit () : Result[] {\n",
    "    let numQubits = 3;\n",
    "    let theta = [\n",
    "        GateParams(0.5, 1.7, 2.3),\n",
    "        GateParams(12., 1.0, 10.),\n",
    "        GateParams(7.1, 1.6, 5.3)\n",
    "    ];\n",
    "\n",
    "    let controlledTheta = [\n",
    "        GateParams(1., 7., 9.),\n",
    "        GateParams(4., 2., 1.),\n",
    "        GateParams(3., 6., 2.)\n",
    "    ];\n",
    "\n",
    "    let controlGap = 1;\n",
    "    \n",
    "    let amplitudes = [1.0, 2.0, 3.0];\n",
    "    use qs = Qubit[numQubits];\n",
    "    let qRegister = LittleEndian(qs);\n",
    "    \n",
    "    PrepareArbitraryStateD(amplitudes, qRegister);\n",
    "    \n",
    "    let layerParams = LayerParams(theta, controlledTheta, controlGap);\n",
    "    ConvolutionalLayer(layerParams, qs);\n",
    "    let results = MeasureEachZ(qs);\n",
    "    \n",
    "    \n",
    "    ResetAll(qs);\n",
    "    \n",
    "    return results;\n",
    "}"
   ]
  },
  {
   "cell_type": "code",
   "execution_count": null,
   "id": "51c7ac9b",
   "metadata": {},
   "outputs": [],
   "source": []
  }
 ],
 "metadata": {
  "kernelspec": {
   "display_name": "Q#",
   "language": "qsharp",
   "name": "iqsharp"
  },
  "language_info": {
   "file_extension": ".qs",
   "mimetype": "text/x-qsharp",
   "name": "qsharp",
   "version": "0.24"
  }
 },
 "nbformat": 4,
 "nbformat_minor": 5
}
