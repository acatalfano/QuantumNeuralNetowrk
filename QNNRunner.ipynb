{
 "cells": [
  {
   "cell_type": "markdown",
   "id": "0d1799a9",
   "metadata": {},
   "source": [
    "# Preamble"
   ]
  },
  {
   "cell_type": "code",
   "execution_count": 5,
   "id": "26882f49",
   "metadata": {},
   "outputs": [],
   "source": [
    "import math\n",
    "import numpy as np\n",
    "from functools import reduce\n",
    "from scipy.optimize import fsolve\n",
    "from typing import Callable"
   ]
  },
  {
   "cell_type": "markdown",
   "id": "4adc6371",
   "metadata": {},
   "source": [
    "# Step 1: Preprocessing + Amplitude Encoding\n",
    "\n",
    "We need to encode our feature set with a shape that will work with a quantum circuit architecture."
   ]
  },
  {
   "cell_type": "markdown",
   "id": "0704e0cc",
   "metadata": {},
   "source": [
    "## Preprocessing\n",
    "\n",
    "Map to higher dimension by padding up to the next power of 2, padding with garbage."
   ]
  },
  {
   "cell_type": "code",
   "execution_count": 6,
   "id": "13be879c",
   "metadata": {},
   "outputs": [],
   "source": [
    "def next_pow_of_2(n: int) -> int:\n",
    "    return 2 ** (int(math.log2(n)) + 1)\n",
    "\n",
    "def padding_size(n: int) -> int:\n",
    "    return next_pow_of_2(n) - n"
   ]
  },
  {
   "cell_type": "markdown",
   "id": "6c74bdf8",
   "metadata": {},
   "source": [
    "## Upscaling\n",
    "\n",
    "Per some hyperparameter `d`, map to `d`-many repetitions of the feature state. The padding is applied to\n",
    "the new `d`-repeated feature state.\n",
    "This is just one pass through. We need to do this for every input."
   ]
  },
  {
   "cell_type": "code",
   "execution_count": 7,
   "id": "00ebc492",
   "metadata": {},
   "outputs": [],
   "source": [
    "def repeat_flat(feature_vec: list[float], repeat_times: int) -> np.ndarray:\n",
    "    feature_size = len(feature_vec)\n",
    "    return np.repeat(\n",
    "        np.array(feature_vec)\n",
    "          .reshape(1, feature_size),\n",
    "        repeat_times,\n",
    "        axis=0\n",
    "    ).reshape(feature_size * repeat_times)\n",
    "\n",
    "def preprocess(input_vec: list[float], repeat_times: int) -> np.ndarray:\n",
    "    repeated_input = repeat_flat(input_vec, repeat_times)\n",
    "    # TODO: OR we want not all 0's here! YES NEEDS TO BE NON-ZEROS!!!\n",
    "    features = repeated_input + ([0] * padding_size(len(repeated_input)))\n",
    "    norm = np.linalg.norm(features)\n",
    "    return features / norm\n"
   ]
  },
  {
   "cell_type": "markdown",
   "id": "535e4d5a",
   "metadata": {},
   "source": [
    "## Amplitude Encoding\n",
    "\n",
    "To put our classical data into the quantum circuit, we leverage amplitude encoding."
   ]
  },
  {
   "cell_type": "code",
   "execution_count": 20,
   "id": "3a2c8883",
   "metadata": {},
   "outputs": [
    {
     "data": {
      "text/plain": [
       "\"\\ndef column_tensor_product(lhs: np.ndarray, rhs: np.ndarray) -> np.ndarray:\\n    print('lhs col tensor', lhs)\\n    print('rhs col tensor', rhs)\\n    return np.tensordot(lhs, rhs, axes=0)              .reshape(len(lhs) * len(rhs))\\n\\ndef generate_state_tensor(states: list[np.ndarray]) -> np.ndarray:\\n    return reduce(\\n        lambda accum, curr: column_tensor_product(accum, curr),\\n        states\\n    )\\n\\ndef tensor_product_equations(flattened_state_vecs: list[float], feature_values: list[float]) -> list[float]:\\n    state_vecs = np.array(flattened_state_vecs)         .reshape(int(len(flattened_state_vecs) / 2), 2)\\n    print('TP equalities. state_vecs', state_vecs)\\n    print('TP equalities. feature_values', feature_values)\\n    state_tensor = generate_state_tensor(state_vecs)\\n    \\n    print('TP equalities. state_tensor', state_tensor)\\n    # each component of the state tensor needs to be equal to that component from the feature vector\\n    # and each qubit state vector must have α^2 + β^2 = 1\\n    eqs = list(state_tensor - feature_values) #        #+ [np.sum([q_i ** 2 for q_i in state]) - 1 for state in state_vecs]\\n    print(eqs)\\n    return eqs\\n\\n#def create_tensor_product_equations(feature_values: list[float]) -> Callable[[list[np.ndarray]], list[float]]:\\n#    return lambda state_vecs: tensor_product_equalities(state_vecs, feature_values)\\n\\ndef compute_initial_states(qubit_count: int, feature_vec: list[float]) -> list[list[float]]:\\n    zeroes = [np.zeros(2) for i in range(qubit_count)]\\n    states = fsolve(tensor_product_equations, zeroes, args=feature_vec)\\n    return states\\n\\n\\ncompute_initial_states(3, [0,1,2,3,4,5,6,7])\\n\""
      ]
     },
     "execution_count": 20,
     "metadata": {},
     "output_type": "execute_result"
    }
   ],
   "source": [
    "#TODO: we don't want this anymore, drop it when sure we don't need any of this logic elsewhere\n",
    "#      ALSO drop any unneeded imports from preamble\n",
    "'''\n",
    "def column_tensor_product(lhs: np.ndarray, rhs: np.ndarray) -> np.ndarray:\n",
    "    print('lhs col tensor', lhs)\n",
    "    print('rhs col tensor', rhs)\n",
    "    return np.tensordot(lhs, rhs, axes=0) \\\n",
    "             .reshape(len(lhs) * len(rhs))\n",
    "\n",
    "def generate_state_tensor(states: list[np.ndarray]) -> np.ndarray:\n",
    "    return reduce(\n",
    "        lambda accum, curr: column_tensor_product(accum, curr),\n",
    "        states\n",
    "    )\n",
    "\n",
    "def tensor_product_equations(flattened_state_vecs: list[float], feature_values: list[float]) -> list[float]:\n",
    "    state_vecs = np.array(flattened_state_vecs) \\\n",
    "        .reshape(int(len(flattened_state_vecs) / 2), 2)\n",
    "    print('TP equalities. state_vecs', state_vecs)\n",
    "    print('TP equalities. feature_values', feature_values)\n",
    "    state_tensor = generate_state_tensor(state_vecs)\n",
    "    \n",
    "    print('TP equalities. state_tensor', state_tensor)\n",
    "    # each component of the state tensor needs to be equal to that component from the feature vector\n",
    "    # and each qubit state vector must have α^2 + β^2 = 1\n",
    "    eqs = list(state_tensor - feature_values) #\\\n",
    "        #+ [np.sum([q_i ** 2 for q_i in state]) - 1 for state in state_vecs]\n",
    "    print(eqs)\n",
    "    return eqs\n",
    "\n",
    "#def create_tensor_product_equations(feature_values: list[float]) -> Callable[[list[np.ndarray]], list[float]]:\n",
    "#    return lambda state_vecs: tensor_product_equalities(state_vecs, feature_values)\n",
    "\n",
    "def compute_initial_states(qubit_count: int, feature_vec: list[float]) -> list[list[float]]:\n",
    "    zeroes = [np.zeros(2) for i in range(qubit_count)]\n",
    "    states = fsolve(tensor_product_equations, zeroes, args=feature_vec)\n",
    "    return states\n",
    "\n",
    "\n",
    "compute_initial_states(3, [0,1,2,3,4,5,6,7])\n",
    "'''"
   ]
  },
  {
   "cell_type": "markdown",
   "id": "57f81388",
   "metadata": {},
   "source": [
    "## Training"
   ]
  },
  {
   "cell_type": "code",
   "execution_count": null,
   "id": "c2096773",
   "metadata": {},
   "outputs": [],
   "source": []
  }
 ],
 "metadata": {
  "kernelspec": {
   "display_name": "Python 3 (ipykernel)",
   "language": "python",
   "name": "python3"
  },
  "language_info": {
   "codemirror_mode": {
    "name": "ipython",
    "version": 3
   },
   "file_extension": ".py",
   "mimetype": "text/x-python",
   "name": "python",
   "nbconvert_exporter": "python",
   "pygments_lexer": "ipython3",
   "version": "3.9.12"
  }
 },
 "nbformat": 4,
 "nbformat_minor": 5
}
